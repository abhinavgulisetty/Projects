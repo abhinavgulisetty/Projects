{
  "nbformat": 4,
  "nbformat_minor": 0,
  "metadata": {
    "colab": {
      "provenance": []
    },
    "kernelspec": {
      "name": "python3",
      "display_name": "Python 3"
    },
    "language_info": {
      "name": "python"
    }
  },
  "cells": [
    {
      "cell_type": "code",
      "execution_count": 2,
      "metadata": {
        "id": "fuTimAjXf1yS"
      },
      "outputs": [],
      "source": [
        "#Import necessary libraries\n",
        "import pandas as pd\n",
        "import numpy as np\n",
        "from sklearn.model_selection import train_test_split\n",
        "from sklearn.preprocessing import StandardScaler, OneHotEncoder\n",
        "from sklearn.compose import ColumnTransformer\n",
        "from sklearn.pipeline import Pipeline\n",
        "from sklearn.ensemble import RandomForestClassifier, GradientBoostingClassifier\n",
        "from sklearn.linear_model import LogisticRegression\n",
        "from sklearn.svm import SVC\n",
        "from sklearn.neighbors import KNeighborsClassifier\n",
        "from sklearn.tree import DecisionTreeClassifier\n",
        "from sklearn.metrics import accuracy_score, classification_report\n",
        "from sklearn.impute import SimpleImputer\n",
        "from sklearn.model_selection import cross_val_score"
      ]
    },
    {
      "cell_type": "code",
      "source": [
        "file_path = 'Spotify Most Streamed Songs.csv'\n",
        "data = pd.read_csv(file_path)"
      ],
      "metadata": {
        "id": "jQZZmKCqgZ7m"
      },
      "execution_count": 4,
      "outputs": []
    },
    {
      "cell_type": "code",
      "source": [
        "data['streams'] = pd.to_numeric(data['streams'], errors='coerce')\n",
        "columns_to_convert = ['in_deezer_playlists', 'in_shazam_charts']\n",
        "for col in columns_to_convert:\n",
        "    data[col] = pd.to_numeric(data[col], errors='coerce')"
      ],
      "metadata": {
        "id": "Ti8QIYQygitk"
      },
      "execution_count": 5,
      "outputs": []
    },
    {
      "cell_type": "code",
      "source": [
        "data_cleaned = data.dropna(subset=['streams'])\n",
        "numeric_cols = data_cleaned.select_dtypes(include=['int64', 'float64']).columns\n",
        "data_cleaned.loc[:, numeric_cols] = data_cleaned[numeric_cols].fillna(data_cleaned[numeric_cols].median())\n",
        "data_cleaned = data_cleaned.drop(['cover_url', 'track_name', 'artist(s)_name'], axis=1)"
      ],
      "metadata": {
        "id": "m4iU2tn0goHc"
      },
      "execution_count": 7,
      "outputs": []
    },
    {
      "cell_type": "code",
      "source": [
        "data_cleaned['hit_potential'] = np.where(data_cleaned['in_spotify_charts'] > 0, 1, 0)"
      ],
      "metadata": {
        "id": "4dt05IfDg6_w"
      },
      "execution_count": 8,
      "outputs": []
    },
    {
      "cell_type": "code",
      "source": [
        "X = data_cleaned.drop(['in_spotify_charts', 'hit_potential'], axis=1)\n",
        "y = data_cleaned['hit_potential']"
      ],
      "metadata": {
        "id": "jVy1WloKhCL0"
      },
      "execution_count": 9,
      "outputs": []
    },
    {
      "cell_type": "code",
      "source": [
        "X_train, X_test, y_train, y_test = train_test_split(X, y, test_size=0.2, random_state=42)"
      ],
      "metadata": {
        "id": "hDMxrPWWhEzt"
      },
      "execution_count": 10,
      "outputs": []
    },
    {
      "cell_type": "code",
      "source": [
        "numeric_features = ['artist_count', 'released_year', 'released_month', 'released_day', 'streams',\n",
        "                    'in_spotify_playlists', 'in_apple_playlists', 'in_apple_charts', 'in_deezer_playlists',\n",
        "                    'in_deezer_charts', 'in_shazam_charts', 'bpm', 'danceability_%', 'valence_%',\n",
        "                    'energy_%', 'acousticness_%', 'instrumentalness_%', 'liveness_%', 'speechiness_%']\n",
        "categorical_features = ['key', 'mode']"
      ],
      "metadata": {
        "id": "CqPgItMehHdt"
      },
      "execution_count": 11,
      "outputs": []
    },
    {
      "cell_type": "code",
      "source": [
        "numeric_transformer = Pipeline(steps=[\n",
        "    ('imputer', SimpleImputer(strategy='median')),\n",
        "    ('scaler', StandardScaler())\n",
        "])"
      ],
      "metadata": {
        "id": "fKZK5P51hURE"
      },
      "execution_count": 12,
      "outputs": []
    },
    {
      "cell_type": "code",
      "source": [
        "categorical_transformer = Pipeline(steps=[\n",
        "    ('imputer', SimpleImputer(strategy='most_frequent')),\n",
        "    ('onehot', OneHotEncoder(handle_unknown='ignore'))\n",
        "])\n",
        "\n",
        "preprocessor = ColumnTransformer(\n",
        "    transformers=[\n",
        "        ('num', numeric_transformer, numeric_features),\n",
        "        ('cat', categorical_transformer, categorical_features)\n",
        "    ])"
      ],
      "metadata": {
        "id": "x_C_Oe4rhWka"
      },
      "execution_count": 13,
      "outputs": []
    },
    {
      "cell_type": "code",
      "source": [
        "models = {\n",
        "    'Random Forest': RandomForestClassifier(random_state=42),\n",
        "    'Logistic Regression': LogisticRegression(max_iter=1000),\n",
        "    'SVM': SVC(),\n",
        "    'Gradient Boosting': GradientBoostingClassifier(random_state=42),\n",
        "    'K-Nearest Neighbors': KNeighborsClassifier(),\n",
        "    'Decision Tree': DecisionTreeClassifier(random_state=42)\n",
        "}"
      ],
      "metadata": {
        "id": "w9eJno9vhZNc"
      },
      "execution_count": 14,
      "outputs": []
    },
    {
      "cell_type": "code",
      "source": [
        "results = {}\n",
        "\n",
        "for name, model in models.items():\n",
        "    pipeline = Pipeline(steps=[('preprocessor', preprocessor), ('classifier', model)])\n",
        "\n",
        "    pipeline.fit(X_train, y_train)\n",
        "\n",
        "    y_pred = pipeline.predict(X_test)\n",
        "\n",
        "    accuracy = accuracy_score(y_test, y_pred)\n",
        "    report = classification_report(y_test, y_pred, output_dict=True)\n",
        "\n",
        "    results[name] = {\n",
        "        'accuracy': accuracy,\n",
        "        'classification_report': report\n",
        "    }\n",
        "\n",
        "for name, result in results.items():\n",
        "    print(f\"\\nModel: {name}\")\n",
        "    print(f\"Accuracy: {result['accuracy']:.4f}\")\n",
        "    print(f\"Classification Report:\")\n",
        "    print(pd.DataFrame(result['classification_report']).transpose())\n"
      ],
      "metadata": {
        "colab": {
          "base_uri": "https://localhost:8080/"
        },
        "id": "XY7erw30hdR2",
        "outputId": "4e51d36c-6794-4e74-e165-6c2a00ac47d2"
      },
      "execution_count": 15,
      "outputs": [
        {
          "output_type": "stream",
          "name": "stdout",
          "text": [
            "\n",
            "Model: Random Forest\n",
            "Accuracy: 0.7749\n",
            "Classification Report:\n",
            "              precision    recall  f1-score     support\n",
            "0              0.742857  0.675325  0.707483   77.000000\n",
            "1              0.793388  0.842105  0.817021  114.000000\n",
            "accuracy       0.774869  0.774869  0.774869    0.774869\n",
            "macro avg      0.768123  0.758715  0.762252  191.000000\n",
            "weighted avg   0.773017  0.774869  0.772862  191.000000\n",
            "\n",
            "Model: Logistic Regression\n",
            "Accuracy: 0.7644\n",
            "Classification Report:\n",
            "              precision    recall  f1-score     support\n",
            "0              0.681818  0.779221  0.727273   77.000000\n",
            "1              0.834951  0.754386  0.792627  114.000000\n",
            "accuracy       0.764398  0.764398  0.764398    0.764398\n",
            "macro avg      0.758385  0.766803  0.759950  191.000000\n",
            "weighted avg   0.773217  0.764398  0.766280  191.000000\n",
            "\n",
            "Model: SVM\n",
            "Accuracy: 0.8115\n",
            "Classification Report:\n",
            "              precision    recall  f1-score     support\n",
            "0              0.746988  0.805195  0.775000   77.000000\n",
            "1              0.861111  0.815789  0.837838  114.000000\n",
            "accuracy       0.811518  0.811518  0.811518    0.811518\n",
            "macro avg      0.804050  0.810492  0.806419  191.000000\n",
            "weighted avg   0.815103  0.811518  0.812505  191.000000\n",
            "\n",
            "Model: Gradient Boosting\n",
            "Accuracy: 0.7749\n",
            "Classification Report:\n",
            "              precision    recall  f1-score     support\n",
            "0              0.712500  0.740260  0.726115   77.000000\n",
            "1              0.819820  0.798246  0.808889  114.000000\n",
            "accuracy       0.774869  0.774869  0.774869    0.774869\n",
            "macro avg      0.766160  0.769253  0.767502  191.000000\n",
            "weighted avg   0.776555  0.774869  0.775519  191.000000\n",
            "\n",
            "Model: K-Nearest Neighbors\n",
            "Accuracy: 0.6911\n",
            "Classification Report:\n",
            "              precision    recall  f1-score     support\n",
            "0              0.607143  0.662338  0.633540   77.000000\n",
            "1              0.757009  0.710526  0.733032  114.000000\n",
            "accuracy       0.691099  0.691099  0.691099    0.691099\n",
            "macro avg      0.682076  0.686432  0.683286  191.000000\n",
            "weighted avg   0.696592  0.691099  0.692923  191.000000\n",
            "\n",
            "Model: Decision Tree\n",
            "Accuracy: 0.7592\n",
            "Classification Report:\n",
            "              precision    recall  f1-score     support\n",
            "0              0.691358  0.727273  0.708861   77.000000\n",
            "1              0.809091  0.780702  0.794643  114.000000\n",
            "accuracy       0.759162  0.759162  0.759162    0.759162\n",
            "macro avg      0.750224  0.753987  0.751752  191.000000\n",
            "weighted avg   0.761628  0.759162  0.760061  191.000000\n"
          ]
        }
      ]
    },
    {
      "cell_type": "code",
      "source": [
        "print(\"\\nCross-Validation Scores:\")\n",
        "for name, model in models.items():\n",
        "    pipeline = Pipeline(steps=[('preprocessor', preprocessor), ('classifier', model)])\n",
        "    cv_scores = cross_val_score(pipeline, X, y, cv=5)\n",
        "    print(f\"{name}: {cv_scores.mean():.4f} ± {cv_scores.std():.4f}\")"
      ],
      "metadata": {
        "colab": {
          "base_uri": "https://localhost:8080/"
        },
        "id": "f8I0pAqqhqtl",
        "outputId": "a213e6a0-3537-42a3-8cad-3b7ef0de821e"
      },
      "execution_count": 16,
      "outputs": [
        {
          "output_type": "stream",
          "name": "stdout",
          "text": [
            "\n",
            "Cross-Validation Scores:\n",
            "Random Forest: 0.7299 ± 0.0677\n",
            "Logistic Regression: 0.7403 ± 0.0898\n",
            "SVM: 0.7014 ± 0.0928\n",
            "Gradient Boosting: 0.7215 ± 0.0747\n",
            "K-Nearest Neighbors: 0.6395 ± 0.1011\n",
            "Decision Tree: 0.6742 ± 0.0579\n"
          ]
        }
      ]
    }
  ]
}